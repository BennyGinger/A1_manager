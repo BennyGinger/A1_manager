{
 "cells": [
  {
   "cell_type": "markdown",
   "id": "f50af5e6",
   "metadata": {},
   "source": [
    "# A1 Manager Playbook\n",
    "\n",
    "This notebook demonstrates how to load the **A1_manager** project as a module and execute its test suite programmatically.\n",
    "            "
   ]
  },
  {
   "cell_type": "code",
   "execution_count": null,
   "id": "7fe7c8c5",
   "metadata": {},
   "outputs": [
    {
     "name": "stdout",
     "output_type": "stream",
     "text": [
      "Module path set to: c:\\repos\\A1_manager\\a1_manager\n"
     ]
    }
   ],
   "source": [
    "# Ensure the project module path is set\n",
    "import sys\n",
    "from pathlib import Path\n",
    "\n",
    "# Insert the 'a1_manager' directory into sys.path\n",
    "project_root = Path.cwd()\n",
    "sys.path.insert(0, str(project_root / 'a1_manager'))\n",
    "print('Module path set to:', project_root / 'a1_manager')"
   ]
  },
  {
   "cell_type": "code",
   "execution_count": null,
   "id": "4185b9f5",
   "metadata": {},
   "outputs": [
    {
     "name": "stdout",
     "output_type": "stream",
     "text": [
      "Imported classes successfully:\n",
      "NikonTi2: <class 'microscope_hardware.nikon.NikonTi2'>\n",
      "A1Manager: <class 'a1_manager.main.A1Manager'>\n"
     ]
    }
   ],
   "source": [
    "# Import key classes to verify module loading\n",
    "from microscope_hardware.nikon import NikonTi2\n",
    "from a1_manager.main import A1Manager\n",
    "\n",
    "print('Imported classes successfully:')\n",
    "print('NikonTi2:', NikonTi2)\n",
    "print('A1Manager:', A1Manager)"
   ]
  },
  {
   "cell_type": "code",
   "execution_count": 13,
   "id": "15352a32",
   "metadata": {},
   "outputs": [
    {
     "name": "stdout",
     "output_type": "stream",
     "text": [
      "✅ NikonTi2 high-level tests passed.\n"
     ]
    }
   ],
   "source": [
    "# Test NikonTi2\n",
    "from unittest.mock import MagicMock\n",
    "from microscope_hardware.nikon import NikonTi2\n",
    "\n",
    "# Stub Core\n",
    "core = MagicMock()\n",
    "# Valid objective\n",
    "nikon = NikonTi2(core, objective=\"10x\", focus_device=\"PFSOffset\")\n",
    "# Should have called set_property twice: one for focus, one for FocusMaintenance\n",
    "core.set_property.assert_any_call('Nosepiece', 'State', 1)\n",
    "core.set_property.assert_any_call('PFS', 'FocusMaintenance', 'On')\n",
    "\n",
    "# Invalid objective\n",
    "try:\n",
    "    NikonTi2(core, objective=\"30x\")\n",
    "    raise AssertionError(\"Expected ValueError for unsupported objective\")\n",
    "except ValueError:\n",
    "    pass\n",
    "\n",
    "# Changing focus device toggles FocusMaintenance\n",
    "nikon.select_focus_device(\"ZDrive\")\n",
    "core.set_property.assert_any_call('Core', 'Focus', 'ZDrive')\n",
    "core.set_property.assert_any_call('PFS', 'FocusMaintenance', 'Off')\n",
    "\n",
    "print(\"✅ NikonTi2 high-level tests passed.\")"
   ]
  },
  {
   "cell_type": "code",
   "execution_count": 18,
   "id": "0e9de743",
   "metadata": {},
   "outputs": [
    {
     "name": "stdout",
     "output_type": "stream",
     "text": [
      "✅ AndorCamera high-level tests passed.\n"
     ]
    }
   ],
   "source": [
    "# Test AndorCamera\n",
    "from unittest.mock import MagicMock\n",
    "from microscope_hardware.cameras import AndorCamera\n",
    "\n",
    "core = MagicMock()\n",
    "# Initialize with binning=4, exposure=123\n",
    "cam = AndorCamera(core, binning=4, exposure_ms=123)\n",
    "core.set_property.assert_any_call('LightPath', 'State', 1)\n",
    "core.set_property.assert_any_call('Andor sCMOS Camera', 'Binning', '4x4')\n",
    "core.set_property.assert_any_call('Andor sCMOS Camera', 'Exposure', 123)\n",
    "assert cam.binning == 4 and cam.exposure_ms == 123\n",
    "\n",
    "# Change settings after init\n",
    "cam._set_camera_binning(2)\n",
    "core.set_property.assert_any_call('Andor sCMOS Camera', 'Binning', '2x2')\n",
    "cam.set_camera_exposure(200)\n",
    "core.set_property.assert_any_call('Andor sCMOS Camera', 'Exposure', 200)\n",
    "\n",
    "print(\"✅ AndorCamera high-level tests passed.\")"
   ]
  },
  {
   "cell_type": "code",
   "execution_count": 15,
   "id": "a8f865ed",
   "metadata": {},
   "outputs": [
    {
     "name": "stdout",
     "output_type": "stream",
     "text": [
      "✅ get_lamp factory tests passed.\n"
     ]
    }
   ],
   "source": [
    "# Test get_lamp factory\n",
    "from microscope_hardware.lamps_factory import get_lamp\n",
    "from microscope_hardware.lamps.pe800 import pE800\n",
    "from microscope_hardware.lamps.pe4000 import pE4000\n",
    "from microscope_hardware.lamps.dia_lamp import DiaLamp\n",
    "\n",
    "core = MagicMock()\n",
    "\n",
    "lamp = get_lamp(core, 'pE-800')\n",
    "assert isinstance(lamp, pE800)\n",
    "lamp = get_lamp(core, 'pE-4000')\n",
    "assert isinstance(lamp, pE4000)\n",
    "lamp = get_lamp(core, 'DiaLamp')\n",
    "assert isinstance(lamp, DiaLamp)\n",
    "\n",
    "try:\n",
    "    get_lamp(core, 'UnknownLamp')\n",
    "    raise AssertionError(\"Expected ValueError for invalid lamp name\")\n",
    "except ValueError:\n",
    "    pass\n",
    "\n",
    "print(\"✅ get_lamp factory tests passed.\")"
   ]
  },
  {
   "cell_type": "code",
   "execution_count": 20,
   "id": "4be2cc47",
   "metadata": {},
   "outputs": [
    {
     "name": "stderr",
     "output_type": "stream",
     "text": [
      "2025-04-24 15:39:45,728 [WARNING] No transfo_matrix found.\n"
     ]
    },
    {
     "name": "stdout",
     "output_type": "stream",
     "text": [
      "✅ Dmd high-level tests passed.\n"
     ]
    }
   ],
   "source": [
    "# Test Dmd class basics\n",
    "from unittest.mock import MagicMock\n",
    "import numpy as np\n",
    "from microscope_hardware.dmd_manager import Dmd\n",
    "\n",
    "# Stub Core so all methods exist\n",
    "core = MagicMock()\n",
    "core.get_slm_width.return_value = 8\n",
    "core.get_slm_height.return_value = 6\n",
    "\n",
    "dmd = Dmd(core, trigger_mode=\"InternalExpose\")\n",
    "# Should have loaded fullON mask on init\n",
    "core.display_slm_image.assert_called_once()\n",
    "# Switch trigger mode\n",
    "dmd._set_trigger_mode(\"ExternalBulb\")\n",
    "core.set_property.assert_any_call('Mosaic3', 'TriggerMode', \"ExternalBulb\")\n",
    "# Project a custom mask\n",
    "mask = np.zeros((6,8), dtype='uint8')\n",
    "dmd._project_mask(mask)\n",
    "core.set_slm_image.assert_called_with('Mosaic3', mask)\n",
    "core.display_slm_image.assert_called()\n",
    "print(\"✅ Dmd high-level tests passed.\")"
   ]
  },
  {
   "cell_type": "code",
   "execution_count": 25,
   "id": "71a27c5b",
   "metadata": {},
   "outputs": [
    {
     "name": "stdout",
     "output_type": "stream",
     "text": [
      "✅ A1Manager high-level tests passed.\n"
     ]
    }
   ],
   "source": [
    "# Test A1Manager size + oc_settings logic\n",
    "from unittest.mock import MagicMock\n",
    "import logging\n",
    "from a1_manager.main import A1Manager, OPTICAL_CONFIGURATION\n",
    "\n",
    "# Stub Core and hardware classes\n",
    "core = MagicMock()\n",
    "# Monkey-patch Nikon, Camera, Lamp, Dmd inside A1Manager module\n",
    "import a1_manager.main as M\n",
    "M.NikonTi2 = lambda core, obj, fd: type(\"N\",(),{\"objective\":obj, \"focus_device\":fd, \"set_light_path\":lambda self,x: setattr(self,\"lp\",x)})()\n",
    "M.AndorCamera = lambda core, binning, exp: type(\"C\",(),{\"binning\":binning,\"exposure_ms\":exp,\"set_camera_exposure\":lambda self,e: setattr(self,\"exposure_ms\",e)})()\n",
    "M.get_lamp      = lambda core, name: type(\"L\",(),{\"lapp_main_branch\":None,\"preset_channel\":lambda self,oc,i: setattr(self,\"oc\",(oc,i))})()\n",
    "M.Dmd           = lambda core, mode: type(\"D\",(),{\"set_dmd_exposure\":lambda self,s:setattr(self,\"exp\",s),\"activate\":lambda self:None,\"load_dmd_mask\":lambda self,m,t:m})()\n",
    "\n",
    "mgr = A1Manager(\"10x\", exposure_ms=50, binning=1, lamp_name=\"pE-800\")\n",
    "# Test pixel→µm conversion\n",
    "assert abs(mgr._size_pixel2micron(100) - (100*0.6461*1))<1e-6\n",
    "assert mgr.image_size == (2048//1,2048//1)\n",
    "\n",
    "# Prepare a fake GFP entry with a custom light_path\n",
    "cfg = OPTICAL_CONFIGURATION.copy()\n",
    "cfg['light_path'] = 2\n",
    "cfg['TEST'] = {**cfg['GFP']}\n",
    "mgr_oc = mgr\n",
    "# Apply oc_settings with default light_path\n",
    "mgr_oc.oc_settings('GFP')\n",
    "assert mgr.camera.exposure_ms == OPTICAL_CONFIGURATION['GFP']['exposure_ms']\n",
    "assert mgr.nikon.lp == OPTICAL_CONFIGURATION['light_path']\n",
    "\n",
    "# Override light_path via param\n",
    "mgr_oc.oc_settings('GFP', light_path=0)\n",
    "assert mgr.nikon.lp == 0\n",
    "\n",
    "print(\"✅ A1Manager high-level tests passed.\")"
   ]
  },
  {
   "cell_type": "code",
   "execution_count": 4,
   "id": "ed4e6c10",
   "metadata": {},
   "outputs": [
    {
     "name": "stdout",
     "output_type": "stream",
     "text": [
      "✅ StageCoord tests passed.\n"
     ]
    }
   ],
   "source": [
    "# StageCoord tests\n",
    "from utils.utility_classes import StageCoord\n",
    "\n",
    "sc = StageCoord(xy=(10, 20), ZDrive=5, PFSOffset=7)\n",
    "assert sc[\"xy\"] == (10, 20)\n",
    "assert sc[\"ZDrive\"] == 5\n",
    "assert sc[\"PFSOffset\"] == 7\n",
    "\n",
    "sc_copy = sc.copy()\n",
    "assert isinstance(sc_copy, StageCoord)\n",
    "assert sc_copy.xy == sc.xy\n",
    "print(\"✅ StageCoord tests passed.\")"
   ]
  },
  {
   "cell_type": "code",
   "execution_count": 5,
   "id": "cfc0aa35",
   "metadata": {},
   "outputs": [
    {
     "name": "stdout",
     "output_type": "stream",
     "text": [
      "✅ Dataclass encode/decode passed.\n"
     ]
    }
   ],
   "source": [
    "#Dataclass JSON encode/decode\n",
    "from utils.json_utils import encode_dataclass, decode_dataclass\n",
    "from utils.utility_classes import WellCircleCoord\n",
    "\n",
    "wc = WellCircleCoord(center=(1, 2), radius=3, ZDrive=4, PFSOffset=5)\n",
    "encoded = encode_dataclass(wc)\n",
    "assert encoded[\"__class__\"] == \"WellCircleCoord\"\n",
    "decoded = decode_dataclass(encoded)\n",
    "assert isinstance(decoded, WellCircleCoord)\n",
    "assert decoded.center == wc.center and decoded.radius == wc.radius\n",
    "print(\"✅ Dataclass encode/decode passed.\")"
   ]
  },
  {
   "cell_type": "code",
   "execution_count": 6,
   "id": "b8208829",
   "metadata": {},
   "outputs": [
    {
     "name": "stdout",
     "output_type": "stream",
     "text": [
      "✅ bounding_box_nDim passed.\n"
     ]
    }
   ],
   "source": [
    "# bounding_box_nDim\n",
    "import numpy as np\n",
    "from utils.utils import bounding_box_nDim\n",
    "\n",
    "mask = np.array([[0,0,0],\n",
    "                 [0,1,0],\n",
    "                 [0,0,0]], dtype=bool)\n",
    "sub, sl = bounding_box_nDim(mask)\n",
    "assert sub.shape == (1,1)\n",
    "assert sl == (slice(1,2), slice(1,2))\n",
    "print(\"✅ bounding_box_nDim passed.\")"
   ]
  },
  {
   "cell_type": "code",
   "execution_count": 7,
   "id": "584117f0",
   "metadata": {},
   "outputs": [
    {
     "name": "stdout",
     "output_type": "stream",
     "text": [
      "✅ draw_square_from_circle passed. bbox slices: (slice(1, 2, None), slice(1, 2, None))\n"
     ]
    }
   ],
   "source": [
    "# draw_square_from_circle\n",
    "from utils.utils import draw_square_from_circle\n",
    "\n",
    "sub, sl = draw_square_from_circle((1,1), radius=1, mask_size=(3,3))\n",
    "# The bounding box should cover at least the center pixel\n",
    "assert sub.size >= 1\n",
    "print(\"✅ draw_square_from_circle passed. bbox slices:\", sl)"
   ]
  },
  {
   "cell_type": "code",
   "execution_count": 8,
   "id": "4c346dcd",
   "metadata": {},
   "outputs": [
    {
     "name": "stdout",
     "output_type": "stream",
     "text": [
      "✅ threshold_img passed.\n"
     ]
    }
   ],
   "source": [
    "# threshold_img\n",
    "import numpy as np\n",
    "from utils.utils import threshold_img\n",
    "\n",
    "img = np.array([[0, 50],[100, 150]], dtype=np.uint16)\n",
    "mask = threshold_img(img)\n",
    "assert mask.dtype == bool and mask.shape == img.shape\n",
    "print(\"✅ threshold_img passed.\")"
   ]
  },
  {
   "cell_type": "code",
   "execution_count": 9,
   "id": "c9ee918e",
   "metadata": {},
   "outputs": [
    {
     "name": "stdout",
     "output_type": "stream",
     "text": [
      "✅ _normalize99 passed.\n"
     ]
    }
   ],
   "source": [
    "# _normalize99\n",
    "import numpy as np\n",
    "from utils.utils import _normalize99\n",
    "\n",
    "arr = np.array([0.0, 50.0, 100.0], dtype=float)\n",
    "norm = _normalize99(arr, lower=0, upper=100)\n",
    "assert abs(norm[0] - 0.0) < 1e-6\n",
    "assert abs(norm[-1] - 1.0) < 1e-6\n",
    "print(\"✅ _normalize99 passed.\")"
   ]
  },
  {
   "cell_type": "code",
   "execution_count": 10,
   "id": "16ccb84a",
   "metadata": {},
   "outputs": [
    {
     "name": "stdout",
     "output_type": "stream",
     "text": [
      "✅ find_circle passed. center: (0.0, 0.0) radius: 1.0\n"
     ]
    }
   ],
   "source": [
    "# find_circle\n",
    "from dish_manager.dish_utils.geometry_utils import find_circle\n",
    "\n",
    "c, r = find_circle((1,0),(0,1),(-1,0))\n",
    "assert abs(c[0]) < 1e-6 and abs(c[1]) < 1e-6\n",
    "assert abs(r - 1.0) < 1e-6\n",
    "print(\"✅ find_circle passed. center:\", c, \"radius:\", r)"
   ]
  },
  {
   "cell_type": "code",
   "execution_count": 11,
   "id": "33040ed7",
   "metadata": {},
   "outputs": [
    {
     "name": "stdout",
     "output_type": "stream",
     "text": [
      "✅ compute_optimal_overlap passed. overlap: (0.0, 0.5)\n"
     ]
    }
   ],
   "source": [
    "# compute_optimal_overlap\n",
    "from dish_manager.dish_utils.geometry_utils import compute_optimal_overlap\n",
    "\n",
    "ov = compute_optimal_overlap((10.0,20.0), well_width=5.0, well_length=10.0)\n",
    "assert isinstance(ov, tuple) and len(ov) == 2\n",
    "print(\"✅ compute_optimal_overlap passed. overlap:\", ov)"
   ]
  },
  {
   "cell_type": "code",
   "execution_count": 26,
   "id": "36e847b5",
   "metadata": {},
   "outputs": [
    {
     "name": "stderr",
     "output_type": "stream",
     "text": [
      "2025-04-24 15:43:59,671 [INFO] Temperature 2.562741203051934e-15. Current value: 8.485281374238571 k: 1/30 k_accepted: 1/3 k_noimprovements: 0\n",
      "2025-04-24 15:43:59,671 [INFO] Temperature 2.562741203051934e-15. Current value: 8.48528137423857 k: 2/30 k_accepted: 2/3 k_noimprovements: 0\n",
      "2025-04-24 15:43:59,671 [INFO] Temperature 2.562741203051934e-15. Current value: 8.485281374238571 k: 3/30 k_accepted: 3/3 k_noimprovements: 0\n",
      "2025-04-24 15:43:59,671 [INFO] Temperature 2.3064670827467406e-15. Current value: 8.48528137423857 k: 1/30 k_accepted: 1/3 k_noimprovements: 0\n",
      "2025-04-24 15:43:59,671 [INFO] Temperature 2.3064670827467406e-15. Current value: 8.48528137423857 k: 2/30 k_accepted: 1/3 k_noimprovements: 0\n",
      "2025-04-24 15:43:59,671 [INFO] Temperature 2.3064670827467406e-15. Current value: 8.485281374238571 k: 3/30 k_accepted: 2/3 k_noimprovements: 0\n",
      "2025-04-24 15:43:59,671 [INFO] Temperature 2.3064670827467406e-15. Current value: 8.48528137423857 k: 4/30 k_accepted: 3/3 k_noimprovements: 0\n",
      "2025-04-24 15:43:59,671 [INFO] Temperature 2.0758203744720665e-15. Current value: 8.48528137423857 k: 1/30 k_accepted: 0/3 k_noimprovements: 0\n",
      "2025-04-24 15:43:59,671 [INFO] Temperature 2.0758203744720665e-15. Current value: 8.485281374238571 k: 2/30 k_accepted: 1/3 k_noimprovements: 0\n",
      "2025-04-24 15:43:59,671 [INFO] Temperature 2.0758203744720665e-15. Current value: 8.48528137423857 k: 3/30 k_accepted: 2/3 k_noimprovements: 0\n",
      "2025-04-24 15:43:59,671 [INFO] Temperature 2.0758203744720665e-15. Current value: 8.485281374238571 k: 4/30 k_accepted: 3/3 k_noimprovements: 0\n",
      "2025-04-24 15:43:59,685 [INFO] Temperature 1.86823833702486e-15. Current value: 8.48528137423857 k: 1/30 k_accepted: 1/3 k_noimprovements: 0\n",
      "2025-04-24 15:43:59,686 [INFO] Temperature 1.86823833702486e-15. Current value: 8.485281374238571 k: 2/30 k_accepted: 2/3 k_noimprovements: 0\n",
      "2025-04-24 15:43:59,687 [INFO] Temperature 1.86823833702486e-15. Current value: 8.48528137423857 k: 3/30 k_accepted: 3/3 k_noimprovements: 0\n",
      "2025-04-24 15:43:59,688 [INFO] Temperature 1.6814145033223741e-15. Current value: 8.485281374238571 k: 1/30 k_accepted: 1/3 k_noimprovements: 0\n",
      "2025-04-24 15:43:59,689 [INFO] Temperature 1.6814145033223741e-15. Current value: 8.48528137423857 k: 2/30 k_accepted: 2/3 k_noimprovements: 0\n",
      "2025-04-24 15:43:59,690 [INFO] Temperature 1.6814145033223741e-15. Current value: 8.48528137423857 k: 3/30 k_accepted: 2/3 k_noimprovements: 0\n",
      "2025-04-24 15:43:59,691 [INFO] Temperature 1.6814145033223741e-15. Current value: 8.48528137423857 k: 4/30 k_accepted: 2/3 k_noimprovements: 0\n",
      "2025-04-24 15:43:59,692 [INFO] Temperature 1.6814145033223741e-15. Current value: 8.485281374238571 k: 5/30 k_accepted: 3/3 k_noimprovements: 0\n",
      "2025-04-24 15:43:59,693 [INFO] Temperature 1.5132730529901367e-15. Current value: 8.48528137423857 k: 1/30 k_accepted: 1/3 k_noimprovements: 0\n",
      "2025-04-24 15:43:59,694 [INFO] Temperature 1.5132730529901367e-15. Current value: 8.48528137423857 k: 2/30 k_accepted: 1/3 k_noimprovements: 0\n",
      "2025-04-24 15:43:59,695 [INFO] Temperature 1.5132730529901367e-15. Current value: 8.48528137423857 k: 3/30 k_accepted: 1/3 k_noimprovements: 0\n",
      "2025-04-24 15:43:59,695 [INFO] Temperature 1.5132730529901367e-15. Current value: 8.48528137423857 k: 4/30 k_accepted: 1/3 k_noimprovements: 0\n",
      "2025-04-24 15:43:59,695 [INFO] Temperature 1.5132730529901367e-15. Current value: 8.48528137423857 k: 5/30 k_accepted: 1/3 k_noimprovements: 0\n",
      "2025-04-24 15:43:59,699 [INFO] Temperature 1.5132730529901367e-15. Current value: 8.485281374238571 k: 6/30 k_accepted: 2/3 k_noimprovements: 0\n",
      "2025-04-24 15:43:59,700 [INFO] Temperature 1.5132730529901367e-15. Current value: 8.48528137423857 k: 7/30 k_accepted: 3/3 k_noimprovements: 0\n",
      "2025-04-24 15:43:59,701 [INFO] Temperature 1.361945747691123e-15. Current value: 8.48528137423857 k: 1/30 k_accepted: 0/3 k_noimprovements: 0\n",
      "2025-04-24 15:43:59,702 [INFO] Temperature 1.361945747691123e-15. Current value: 8.48528137423857 k: 2/30 k_accepted: 0/3 k_noimprovements: 0\n",
      "2025-04-24 15:43:59,704 [INFO] Temperature 1.361945747691123e-15. Current value: 8.48528137423857 k: 3/30 k_accepted: 0/3 k_noimprovements: 0\n",
      "2025-04-24 15:43:59,705 [INFO] Temperature 1.361945747691123e-15. Current value: 8.485281374238571 k: 4/30 k_accepted: 1/3 k_noimprovements: 0\n",
      "2025-04-24 15:43:59,705 [INFO] Temperature 1.361945747691123e-15. Current value: 8.48528137423857 k: 5/30 k_accepted: 2/3 k_noimprovements: 0\n",
      "2025-04-24 15:43:59,706 [INFO] Temperature 1.361945747691123e-15. Current value: 8.48528137423857 k: 6/30 k_accepted: 2/3 k_noimprovements: 0\n",
      "2025-04-24 15:43:59,706 [INFO] Temperature 1.361945747691123e-15. Current value: 8.48528137423857 k: 7/30 k_accepted: 2/3 k_noimprovements: 0\n",
      "2025-04-24 15:43:59,706 [INFO] Temperature 1.361945747691123e-15. Current value: 8.48528137423857 k: 8/30 k_accepted: 2/3 k_noimprovements: 0\n",
      "2025-04-24 15:43:59,706 [INFO] Temperature 1.361945747691123e-15. Current value: 8.48528137423857 k: 9/30 k_accepted: 2/3 k_noimprovements: 0\n",
      "2025-04-24 15:43:59,706 [INFO] Temperature 1.361945747691123e-15. Current value: 8.48528137423857 k: 10/30 k_accepted: 2/3 k_noimprovements: 0\n",
      "2025-04-24 15:43:59,706 [INFO] Temperature 1.361945747691123e-15. Current value: 8.48528137423857 k: 11/30 k_accepted: 2/3 k_noimprovements: 0\n",
      "2025-04-24 15:43:59,706 [INFO] Temperature 1.361945747691123e-15. Current value: 8.48528137423857 k: 12/30 k_accepted: 2/3 k_noimprovements: 0\n",
      "2025-04-24 15:43:59,706 [INFO] Temperature 1.361945747691123e-15. Current value: 8.48528137423857 k: 13/30 k_accepted: 2/3 k_noimprovements: 0\n",
      "2025-04-24 15:43:59,706 [INFO] Temperature 1.361945747691123e-15. Current value: 8.48528137423857 k: 14/30 k_accepted: 2/3 k_noimprovements: 0\n",
      "2025-04-24 15:43:59,706 [INFO] Temperature 1.361945747691123e-15. Current value: 8.48528137423857 k: 15/30 k_accepted: 2/3 k_noimprovements: 0\n",
      "2025-04-24 15:43:59,706 [INFO] Temperature 1.361945747691123e-15. Current value: 8.48528137423857 k: 16/30 k_accepted: 2/3 k_noimprovements: 0\n",
      "2025-04-24 15:43:59,706 [INFO] Temperature 1.361945747691123e-15. Current value: 8.48528137423857 k: 17/30 k_accepted: 2/3 k_noimprovements: 0\n",
      "2025-04-24 15:43:59,718 [INFO] Temperature 1.361945747691123e-15. Current value: 8.48528137423857 k: 18/30 k_accepted: 2/3 k_noimprovements: 0\n",
      "2025-04-24 15:43:59,719 [INFO] Temperature 1.361945747691123e-15. Current value: 8.485281374238571 k: 19/30 k_accepted: 3/3 k_noimprovements: 0\n",
      "2025-04-24 15:43:59,720 [INFO] Temperature 1.2257511729220106e-15. Current value: 8.48528137423857 k: 1/30 k_accepted: 1/3 k_noimprovements: 0\n",
      "2025-04-24 15:43:59,721 [INFO] Temperature 1.2257511729220106e-15. Current value: 8.48528137423857 k: 2/30 k_accepted: 1/3 k_noimprovements: 0\n",
      "2025-04-24 15:43:59,722 [INFO] Temperature 1.2257511729220106e-15. Current value: 8.48528137423857 k: 3/30 k_accepted: 1/3 k_noimprovements: 0\n",
      "2025-04-24 15:43:59,723 [INFO] Temperature 1.2257511729220106e-15. Current value: 8.48528137423857 k: 4/30 k_accepted: 1/3 k_noimprovements: 0\n",
      "2025-04-24 15:43:59,724 [INFO] Temperature 1.2257511729220106e-15. Current value: 8.48528137423857 k: 5/30 k_accepted: 1/3 k_noimprovements: 0\n",
      "2025-04-24 15:43:59,724 [INFO] Temperature 1.2257511729220106e-15. Current value: 8.48528137423857 k: 6/30 k_accepted: 1/3 k_noimprovements: 0\n",
      "2025-04-24 15:43:59,725 [INFO] Temperature 1.2257511729220106e-15. Current value: 8.48528137423857 k: 7/30 k_accepted: 1/3 k_noimprovements: 0\n",
      "2025-04-24 15:43:59,726 [INFO] Temperature 1.2257511729220106e-15. Current value: 8.48528137423857 k: 8/30 k_accepted: 1/3 k_noimprovements: 0\n",
      "2025-04-24 15:43:59,727 [INFO] Temperature 1.2257511729220106e-15. Current value: 8.48528137423857 k: 9/30 k_accepted: 1/3 k_noimprovements: 0\n",
      "2025-04-24 15:43:59,728 [INFO] Temperature 1.2257511729220106e-15. Current value: 8.48528137423857 k: 10/30 k_accepted: 1/3 k_noimprovements: 0\n",
      "2025-04-24 15:43:59,729 [INFO] Temperature 1.2257511729220106e-15. Current value: 8.485281374238571 k: 11/30 k_accepted: 2/3 k_noimprovements: 0\n",
      "2025-04-24 15:43:59,729 [INFO] Temperature 1.2257511729220106e-15. Current value: 8.48528137423857 k: 12/30 k_accepted: 3/3 k_noimprovements: 0\n",
      "2025-04-24 15:43:59,729 [INFO] Temperature 1.1031760556298096e-15. Current value: 8.485281374238571 k: 1/30 k_accepted: 1/3 k_noimprovements: 0\n",
      "2025-04-24 15:43:59,729 [INFO] Temperature 1.1031760556298096e-15. Current value: 8.48528137423857 k: 2/30 k_accepted: 2/3 k_noimprovements: 0\n",
      "2025-04-24 15:43:59,729 [INFO] Temperature 1.1031760556298096e-15. Current value: 8.48528137423857 k: 3/30 k_accepted: 2/3 k_noimprovements: 0\n",
      "2025-04-24 15:43:59,734 [INFO] Temperature 1.1031760556298096e-15. Current value: 8.48528137423857 k: 4/30 k_accepted: 2/3 k_noimprovements: 0\n",
      "2025-04-24 15:43:59,734 [INFO] Temperature 1.1031760556298096e-15. Current value: 8.485281374238571 k: 5/30 k_accepted: 3/3 k_noimprovements: 0\n",
      "2025-04-24 15:43:59,735 [INFO] Temperature 9.928584500668288e-16. Current value: 8.48528137423857 k: 1/30 k_accepted: 1/3 k_noimprovements: 0\n",
      "2025-04-24 15:43:59,737 [INFO] Temperature 9.928584500668288e-16. Current value: 8.48528137423857 k: 2/30 k_accepted: 1/3 k_noimprovements: 0\n",
      "2025-04-24 15:43:59,738 [INFO] Temperature 9.928584500668288e-16. Current value: 8.48528137423857 k: 3/30 k_accepted: 1/3 k_noimprovements: 0\n",
      "2025-04-24 15:43:59,739 [INFO] Temperature 9.928584500668288e-16. Current value: 8.48528137423857 k: 4/30 k_accepted: 1/3 k_noimprovements: 0\n",
      "2025-04-24 15:43:59,740 [INFO] Temperature 9.928584500668288e-16. Current value: 8.48528137423857 k: 5/30 k_accepted: 1/3 k_noimprovements: 0\n",
      "2025-04-24 15:43:59,741 [INFO] Temperature 9.928584500668288e-16. Current value: 8.485281374238571 k: 6/30 k_accepted: 2/3 k_noimprovements: 0\n",
      "2025-04-24 15:43:59,741 [INFO] Temperature 9.928584500668288e-16. Current value: 8.48528137423857 k: 7/30 k_accepted: 3/3 k_noimprovements: 0\n",
      "2025-04-24 15:43:59,741 [INFO] Temperature 8.935726050601459e-16. Current value: 8.48528137423857 k: 1/30 k_accepted: 0/3 k_noimprovements: 0\n",
      "2025-04-24 15:43:59,741 [INFO] Temperature 8.935726050601459e-16. Current value: 8.48528137423857 k: 2/30 k_accepted: 0/3 k_noimprovements: 0\n",
      "2025-04-24 15:43:59,741 [INFO] Temperature 8.935726050601459e-16. Current value: 8.48528137423857 k: 3/30 k_accepted: 0/3 k_noimprovements: 0\n",
      "2025-04-24 15:43:59,741 [INFO] Temperature 8.935726050601459e-16. Current value: 8.48528137423857 k: 4/30 k_accepted: 0/3 k_noimprovements: 0\n",
      "2025-04-24 15:43:59,741 [INFO] Temperature 8.935726050601459e-16. Current value: 8.48528137423857 k: 5/30 k_accepted: 0/3 k_noimprovements: 0\n",
      "2025-04-24 15:43:59,741 [INFO] Temperature 8.935726050601459e-16. Current value: 8.48528137423857 k: 6/30 k_accepted: 0/3 k_noimprovements: 0\n",
      "2025-04-24 15:43:59,741 [INFO] Temperature 8.935726050601459e-16. Current value: 8.48528137423857 k: 7/30 k_accepted: 0/3 k_noimprovements: 0\n",
      "2025-04-24 15:43:59,751 [INFO] Temperature 8.935726050601459e-16. Current value: 8.48528137423857 k: 8/30 k_accepted: 0/3 k_noimprovements: 0\n",
      "2025-04-24 15:43:59,751 [INFO] Temperature 8.935726050601459e-16. Current value: 8.48528137423857 k: 9/30 k_accepted: 0/3 k_noimprovements: 0\n",
      "2025-04-24 15:43:59,753 [INFO] Temperature 8.935726050601459e-16. Current value: 8.48528137423857 k: 10/30 k_accepted: 0/3 k_noimprovements: 0\n",
      "2025-04-24 15:43:59,753 [INFO] Temperature 8.935726050601459e-16. Current value: 8.48528137423857 k: 11/30 k_accepted: 0/3 k_noimprovements: 0\n",
      "2025-04-24 15:43:59,754 [INFO] Temperature 8.935726050601459e-16. Current value: 8.48528137423857 k: 12/30 k_accepted: 0/3 k_noimprovements: 0\n",
      "2025-04-24 15:43:59,755 [INFO] Temperature 8.935726050601459e-16. Current value: 8.48528137423857 k: 13/30 k_accepted: 0/3 k_noimprovements: 0\n",
      "2025-04-24 15:43:59,756 [INFO] Temperature 8.935726050601459e-16. Current value: 8.48528137423857 k: 14/30 k_accepted: 0/3 k_noimprovements: 0\n",
      "2025-04-24 15:43:59,756 [INFO] Temperature 8.935726050601459e-16. Current value: 8.48528137423857 k: 15/30 k_accepted: 0/3 k_noimprovements: 0\n",
      "2025-04-24 15:43:59,757 [INFO] Temperature 8.935726050601459e-16. Current value: 8.48528137423857 k: 16/30 k_accepted: 0/3 k_noimprovements: 0\n",
      "2025-04-24 15:43:59,758 [INFO] Temperature 8.935726050601459e-16. Current value: 8.485281374238571 k: 17/30 k_accepted: 1/3 k_noimprovements: 0\n",
      "2025-04-24 15:43:59,759 [INFO] Temperature 8.935726050601459e-16. Current value: 8.48528137423857 k: 18/30 k_accepted: 2/3 k_noimprovements: 0\n",
      "2025-04-24 15:43:59,760 [INFO] Temperature 8.935726050601459e-16. Current value: 8.48528137423857 k: 19/30 k_accepted: 2/3 k_noimprovements: 0\n",
      "2025-04-24 15:43:59,761 [INFO] Temperature 8.935726050601459e-16. Current value: 8.48528137423857 k: 20/30 k_accepted: 2/3 k_noimprovements: 0\n",
      "2025-04-24 15:43:59,761 [INFO] Temperature 8.935726050601459e-16. Current value: 8.48528137423857 k: 21/30 k_accepted: 2/3 k_noimprovements: 0\n",
      "2025-04-24 15:43:59,762 [INFO] Temperature 8.935726050601459e-16. Current value: 8.48528137423857 k: 22/30 k_accepted: 2/3 k_noimprovements: 0\n",
      "2025-04-24 15:43:59,762 [INFO] Temperature 8.935726050601459e-16. Current value: 8.48528137423857 k: 23/30 k_accepted: 2/3 k_noimprovements: 0\n",
      "2025-04-24 15:43:59,762 [INFO] Temperature 8.935726050601459e-16. Current value: 8.485281374238571 k: 24/30 k_accepted: 3/3 k_noimprovements: 0\n",
      "2025-04-24 15:43:59,762 [INFO] Temperature 8.042153445541313e-16. Current value: 8.48528137423857 k: 1/30 k_accepted: 1/3 k_noimprovements: 0\n",
      "2025-04-24 15:43:59,762 [INFO] Temperature 8.042153445541313e-16. Current value: 8.48528137423857 k: 2/30 k_accepted: 1/3 k_noimprovements: 0\n",
      "2025-04-24 15:43:59,762 [INFO] Temperature 8.042153445541313e-16. Current value: 8.48528137423857 k: 3/30 k_accepted: 1/3 k_noimprovements: 0\n",
      "2025-04-24 15:43:59,762 [INFO] Temperature 8.042153445541313e-16. Current value: 8.48528137423857 k: 4/30 k_accepted: 1/3 k_noimprovements: 0\n",
      "2025-04-24 15:43:59,767 [INFO] Temperature 8.042153445541313e-16. Current value: 8.48528137423857 k: 5/30 k_accepted: 1/3 k_noimprovements: 0\n",
      "2025-04-24 15:43:59,767 [INFO] Temperature 8.042153445541313e-16. Current value: 8.48528137423857 k: 6/30 k_accepted: 1/3 k_noimprovements: 0\n",
      "2025-04-24 15:43:59,768 [INFO] Temperature 8.042153445541313e-16. Current value: 8.48528137423857 k: 7/30 k_accepted: 1/3 k_noimprovements: 0\n",
      "2025-04-24 15:43:59,769 [INFO] Temperature 8.042153445541313e-16. Current value: 8.485281374238571 k: 8/30 k_accepted: 2/3 k_noimprovements: 0\n",
      "2025-04-24 15:43:59,770 [INFO] Temperature 8.042153445541313e-16. Current value: 8.48528137423857 k: 9/30 k_accepted: 3/3 k_noimprovements: 0\n",
      "2025-04-24 15:43:59,771 [INFO] Temperature 7.237938100987182e-16. Current value: 8.48528137423857 k: 1/30 k_accepted: 0/3 k_noimprovements: 0\n",
      "2025-04-24 15:43:59,772 [INFO] Temperature 7.237938100987182e-16. Current value: 8.48528137423857 k: 2/30 k_accepted: 0/3 k_noimprovements: 0\n",
      "2025-04-24 15:43:59,772 [INFO] Temperature 7.237938100987182e-16. Current value: 8.48528137423857 k: 3/30 k_accepted: 0/3 k_noimprovements: 0\n",
      "2025-04-24 15:43:59,772 [INFO] Temperature 7.237938100987182e-16. Current value: 8.48528137423857 k: 4/30 k_accepted: 0/3 k_noimprovements: 0\n",
      "2025-04-24 15:43:59,772 [INFO] Temperature 7.237938100987182e-16. Current value: 8.48528137423857 k: 5/30 k_accepted: 0/3 k_noimprovements: 0\n",
      "2025-04-24 15:43:59,772 [INFO] Temperature 7.237938100987182e-16. Current value: 8.48528137423857 k: 6/30 k_accepted: 0/3 k_noimprovements: 0\n",
      "2025-04-24 15:43:59,772 [INFO] Temperature 7.237938100987182e-16. Current value: 8.48528137423857 k: 7/30 k_accepted: 0/3 k_noimprovements: 0\n",
      "2025-04-24 15:43:59,772 [INFO] Temperature 7.237938100987182e-16. Current value: 8.48528137423857 k: 8/30 k_accepted: 0/3 k_noimprovements: 0\n",
      "2025-04-24 15:43:59,772 [INFO] Temperature 7.237938100987182e-16. Current value: 8.485281374238571 k: 9/30 k_accepted: 1/3 k_noimprovements: 0\n",
      "2025-04-24 15:43:59,772 [INFO] Temperature 7.237938100987182e-16. Current value: 8.48528137423857 k: 10/30 k_accepted: 2/3 k_noimprovements: 0\n",
      "2025-04-24 15:43:59,772 [INFO] Temperature 7.237938100987182e-16. Current value: 8.48528137423857 k: 11/30 k_accepted: 2/3 k_noimprovements: 0\n",
      "2025-04-24 15:43:59,772 [INFO] Temperature 7.237938100987182e-16. Current value: 8.48528137423857 k: 12/30 k_accepted: 2/3 k_noimprovements: 0\n",
      "2025-04-24 15:43:59,772 [INFO] Temperature 7.237938100987182e-16. Current value: 8.48528137423857 k: 13/30 k_accepted: 2/3 k_noimprovements: 0\n",
      "2025-04-24 15:43:59,772 [INFO] Temperature 7.237938100987182e-16. Current value: 8.485281374238571 k: 14/30 k_accepted: 3/3 k_noimprovements: 0\n",
      "2025-04-24 15:43:59,772 [INFO] Temperature 6.514144290888464e-16. Current value: 8.48528137423857 k: 1/30 k_accepted: 1/3 k_noimprovements: 0\n",
      "2025-04-24 15:43:59,772 [INFO] Temperature 6.514144290888464e-16. Current value: 8.48528137423857 k: 2/30 k_accepted: 1/3 k_noimprovements: 0\n",
      "2025-04-24 15:43:59,784 [INFO] Temperature 6.514144290888464e-16. Current value: 8.48528137423857 k: 3/30 k_accepted: 1/3 k_noimprovements: 0\n",
      "2025-04-24 15:43:59,785 [INFO] Temperature 6.514144290888464e-16. Current value: 8.48528137423857 k: 4/30 k_accepted: 1/3 k_noimprovements: 0\n",
      "2025-04-24 15:43:59,785 [INFO] Temperature 6.514144290888464e-16. Current value: 8.48528137423857 k: 5/30 k_accepted: 1/3 k_noimprovements: 0\n",
      "2025-04-24 15:43:59,786 [INFO] Temperature 6.514144290888464e-16. Current value: 8.48528137423857 k: 6/30 k_accepted: 1/3 k_noimprovements: 0\n",
      "2025-04-24 15:43:59,787 [INFO] Temperature 6.514144290888464e-16. Current value: 8.48528137423857 k: 7/30 k_accepted: 1/3 k_noimprovements: 0\n",
      "2025-04-24 15:43:59,788 [INFO] Temperature 6.514144290888464e-16. Current value: 8.48528137423857 k: 8/30 k_accepted: 1/3 k_noimprovements: 0\n",
      "2025-04-24 15:43:59,788 [INFO] Temperature 6.514144290888464e-16. Current value: 8.48528137423857 k: 9/30 k_accepted: 1/3 k_noimprovements: 0\n",
      "2025-04-24 15:43:59,789 [INFO] Temperature 6.514144290888464e-16. Current value: 8.48528137423857 k: 10/30 k_accepted: 1/3 k_noimprovements: 0\n",
      "2025-04-24 15:43:59,790 [INFO] Temperature 6.514144290888464e-16. Current value: 8.48528137423857 k: 11/30 k_accepted: 1/3 k_noimprovements: 0\n",
      "2025-04-24 15:43:59,790 [INFO] Temperature 6.514144290888464e-16. Current value: 8.48528137423857 k: 12/30 k_accepted: 1/3 k_noimprovements: 0\n",
      "2025-04-24 15:43:59,791 [INFO] Temperature 6.514144290888464e-16. Current value: 8.48528137423857 k: 13/30 k_accepted: 1/3 k_noimprovements: 0\n",
      "2025-04-24 15:43:59,792 [INFO] Temperature 6.514144290888464e-16. Current value: 8.48528137423857 k: 14/30 k_accepted: 1/3 k_noimprovements: 0\n",
      "2025-04-24 15:43:59,792 [INFO] Temperature 6.514144290888464e-16. Current value: 8.48528137423857 k: 15/30 k_accepted: 1/3 k_noimprovements: 0\n",
      "2025-04-24 15:43:59,793 [INFO] Temperature 6.514144290888464e-16. Current value: 8.48528137423857 k: 16/30 k_accepted: 1/3 k_noimprovements: 0\n",
      "2025-04-24 15:43:59,794 [INFO] Temperature 6.514144290888464e-16. Current value: 8.48528137423857 k: 17/30 k_accepted: 1/3 k_noimprovements: 0\n",
      "2025-04-24 15:43:59,795 [INFO] Temperature 6.514144290888464e-16. Current value: 8.48528137423857 k: 18/30 k_accepted: 1/3 k_noimprovements: 0\n",
      "2025-04-24 15:43:59,795 [INFO] Temperature 6.514144290888464e-16. Current value: 8.48528137423857 k: 19/30 k_accepted: 1/3 k_noimprovements: 0\n",
      "2025-04-24 15:43:59,796 [INFO] Temperature 6.514144290888464e-16. Current value: 8.48528137423857 k: 20/30 k_accepted: 1/3 k_noimprovements: 0\n",
      "2025-04-24 15:43:59,797 [INFO] Temperature 6.514144290888464e-16. Current value: 8.485281374238571 k: 21/30 k_accepted: 2/3 k_noimprovements: 0\n",
      "2025-04-24 15:43:59,797 [INFO] Temperature 6.514144290888464e-16. Current value: 8.48528137423857 k: 22/30 k_accepted: 3/3 k_noimprovements: 0\n",
      "2025-04-24 15:43:59,798 [INFO] Temperature 5.862729861799618e-16. Current value: 8.48528137423857 k: 1/30 k_accepted: 0/3 k_noimprovements: 0\n",
      "2025-04-24 15:43:59,799 [INFO] Temperature 5.862729861799618e-16. Current value: 8.48528137423857 k: 2/30 k_accepted: 0/3 k_noimprovements: 0\n",
      "2025-04-24 15:43:59,799 [INFO] Temperature 5.862729861799618e-16. Current value: 8.48528137423857 k: 3/30 k_accepted: 0/3 k_noimprovements: 0\n",
      "2025-04-24 15:43:59,801 [INFO] Temperature 5.862729861799618e-16. Current value: 8.48528137423857 k: 4/30 k_accepted: 0/3 k_noimprovements: 0\n",
      "2025-04-24 15:43:59,802 [INFO] Temperature 5.862729861799618e-16. Current value: 8.48528137423857 k: 5/30 k_accepted: 0/3 k_noimprovements: 0\n",
      "2025-04-24 15:43:59,802 [INFO] Temperature 5.862729861799618e-16. Current value: 8.48528137423857 k: 6/30 k_accepted: 0/3 k_noimprovements: 0\n",
      "2025-04-24 15:43:59,804 [INFO] Temperature 5.862729861799618e-16. Current value: 8.48528137423857 k: 7/30 k_accepted: 0/3 k_noimprovements: 0\n",
      "2025-04-24 15:43:59,804 [INFO] Temperature 5.862729861799618e-16. Current value: 8.48528137423857 k: 8/30 k_accepted: 0/3 k_noimprovements: 0\n",
      "2025-04-24 15:43:59,804 [INFO] Temperature 5.862729861799618e-16. Current value: 8.485281374238571 k: 9/30 k_accepted: 1/3 k_noimprovements: 0\n",
      "2025-04-24 15:43:59,804 [INFO] Temperature 5.862729861799618e-16. Current value: 8.48528137423857 k: 10/30 k_accepted: 2/3 k_noimprovements: 0\n",
      "2025-04-24 15:43:59,804 [INFO] Temperature 5.862729861799618e-16. Current value: 8.48528137423857 k: 11/30 k_accepted: 2/3 k_noimprovements: 0\n",
      "2025-04-24 15:43:59,804 [INFO] Temperature 5.862729861799618e-16. Current value: 8.48528137423857 k: 12/30 k_accepted: 2/3 k_noimprovements: 0\n",
      "2025-04-24 15:43:59,804 [INFO] Temperature 5.862729861799618e-16. Current value: 8.48528137423857 k: 13/30 k_accepted: 2/3 k_noimprovements: 0\n",
      "2025-04-24 15:43:59,804 [INFO] Temperature 5.862729861799618e-16. Current value: 8.48528137423857 k: 14/30 k_accepted: 2/3 k_noimprovements: 0\n",
      "2025-04-24 15:43:59,804 [INFO] Temperature 5.862729861799618e-16. Current value: 8.48528137423857 k: 15/30 k_accepted: 2/3 k_noimprovements: 0\n",
      "2025-04-24 15:43:59,804 [INFO] Temperature 5.862729861799618e-16. Current value: 8.48528137423857 k: 16/30 k_accepted: 2/3 k_noimprovements: 0\n",
      "2025-04-24 15:43:59,804 [INFO] Temperature 5.862729861799618e-16. Current value: 8.48528137423857 k: 17/30 k_accepted: 2/3 k_noimprovements: 0\n",
      "2025-04-24 15:43:59,804 [INFO] Temperature 5.862729861799618e-16. Current value: 8.48528137423857 k: 18/30 k_accepted: 2/3 k_noimprovements: 0\n",
      "2025-04-24 15:43:59,804 [INFO] Temperature 5.862729861799618e-16. Current value: 8.48528137423857 k: 19/30 k_accepted: 2/3 k_noimprovements: 0\n",
      "2025-04-24 15:43:59,804 [INFO] Temperature 5.862729861799618e-16. Current value: 8.48528137423857 k: 20/30 k_accepted: 2/3 k_noimprovements: 0\n",
      "2025-04-24 15:43:59,804 [INFO] Temperature 5.862729861799618e-16. Current value: 8.485281374238571 k: 21/30 k_accepted: 3/3 k_noimprovements: 0\n",
      "2025-04-24 15:43:59,804 [INFO] Temperature 5.276456875619656e-16. Current value: 8.48528137423857 k: 1/30 k_accepted: 1/3 k_noimprovements: 0\n",
      "2025-04-24 15:43:59,804 [INFO] Temperature 5.276456875619656e-16. Current value: 8.48528137423857 k: 2/30 k_accepted: 1/3 k_noimprovements: 0\n",
      "2025-04-24 15:43:59,817 [INFO] Temperature 5.276456875619656e-16. Current value: 8.48528137423857 k: 3/30 k_accepted: 1/3 k_noimprovements: 0\n",
      "2025-04-24 15:43:59,817 [INFO] Temperature 5.276456875619656e-16. Current value: 8.48528137423857 k: 4/30 k_accepted: 1/3 k_noimprovements: 0\n",
      "2025-04-24 15:43:59,818 [INFO] Temperature 5.276456875619656e-16. Current value: 8.48528137423857 k: 5/30 k_accepted: 1/3 k_noimprovements: 0\n",
      "2025-04-24 15:43:59,819 [INFO] Temperature 5.276456875619656e-16. Current value: 8.48528137423857 k: 6/30 k_accepted: 1/3 k_noimprovements: 0\n",
      "2025-04-24 15:43:59,820 [INFO] Temperature 5.276456875619656e-16. Current value: 8.48528137423857 k: 7/30 k_accepted: 1/3 k_noimprovements: 0\n",
      "2025-04-24 15:43:59,821 [INFO] Temperature 5.276456875619656e-16. Current value: 8.48528137423857 k: 8/30 k_accepted: 1/3 k_noimprovements: 0\n",
      "2025-04-24 15:43:59,822 [INFO] Temperature 5.276456875619656e-16. Current value: 8.48528137423857 k: 9/30 k_accepted: 1/3 k_noimprovements: 0\n",
      "2025-04-24 15:43:59,823 [INFO] Temperature 5.276456875619656e-16. Current value: 8.48528137423857 k: 10/30 k_accepted: 1/3 k_noimprovements: 0\n",
      "2025-04-24 15:43:59,823 [INFO] Temperature 5.276456875619656e-16. Current value: 8.48528137423857 k: 11/30 k_accepted: 1/3 k_noimprovements: 0\n",
      "2025-04-24 15:43:59,824 [INFO] Temperature 5.276456875619656e-16. Current value: 8.48528137423857 k: 12/30 k_accepted: 1/3 k_noimprovements: 0\n",
      "2025-04-24 15:43:59,825 [INFO] Temperature 5.276456875619656e-16. Current value: 8.48528137423857 k: 13/30 k_accepted: 1/3 k_noimprovements: 0\n",
      "2025-04-24 15:43:59,826 [INFO] Temperature 5.276456875619656e-16. Current value: 8.48528137423857 k: 14/30 k_accepted: 1/3 k_noimprovements: 0\n",
      "2025-04-24 15:43:59,827 [INFO] Temperature 5.276456875619656e-16. Current value: 8.48528137423857 k: 15/30 k_accepted: 1/3 k_noimprovements: 0\n",
      "2025-04-24 15:43:59,827 [INFO] Temperature 5.276456875619656e-16. Current value: 8.48528137423857 k: 16/30 k_accepted: 1/3 k_noimprovements: 0\n",
      "2025-04-24 15:43:59,827 [INFO] Temperature 5.276456875619656e-16. Current value: 8.48528137423857 k: 17/30 k_accepted: 1/3 k_noimprovements: 0\n",
      "2025-04-24 15:43:59,827 [INFO] Temperature 5.276456875619656e-16. Current value: 8.48528137423857 k: 18/30 k_accepted: 1/3 k_noimprovements: 0\n",
      "2025-04-24 15:43:59,827 [INFO] Temperature 5.276456875619656e-16. Current value: 8.48528137423857 k: 19/30 k_accepted: 1/3 k_noimprovements: 0\n",
      "2025-04-24 15:43:59,827 [INFO] Temperature 5.276456875619656e-16. Current value: 8.48528137423857 k: 20/30 k_accepted: 1/3 k_noimprovements: 0\n",
      "2025-04-24 15:43:59,827 [INFO] Temperature 5.276456875619656e-16. Current value: 8.48528137423857 k: 21/30 k_accepted: 1/3 k_noimprovements: 0\n",
      "2025-04-24 15:43:59,827 [INFO] Temperature 5.276456875619656e-16. Current value: 8.48528137423857 k: 22/30 k_accepted: 1/3 k_noimprovements: 0\n",
      "2025-04-24 15:43:59,827 [INFO] Temperature 5.276456875619656e-16. Current value: 8.48528137423857 k: 23/30 k_accepted: 1/3 k_noimprovements: 0\n",
      "2025-04-24 15:43:59,834 [INFO] Temperature 5.276456875619656e-16. Current value: 8.48528137423857 k: 24/30 k_accepted: 1/3 k_noimprovements: 0\n",
      "2025-04-24 15:43:59,835 [INFO] Temperature 5.276456875619656e-16. Current value: 8.48528137423857 k: 25/30 k_accepted: 1/3 k_noimprovements: 0\n",
      "2025-04-24 15:43:59,836 [INFO] Temperature 5.276456875619656e-16. Current value: 8.48528137423857 k: 26/30 k_accepted: 1/3 k_noimprovements: 0\n",
      "2025-04-24 15:43:59,836 [INFO] Temperature 5.276456875619656e-16. Current value: 8.48528137423857 k: 27/30 k_accepted: 1/3 k_noimprovements: 0\n",
      "2025-04-24 15:43:59,837 [INFO] Temperature 5.276456875619656e-16. Current value: 8.48528137423857 k: 28/30 k_accepted: 1/3 k_noimprovements: 0\n",
      "2025-04-24 15:43:59,838 [INFO] Temperature 5.276456875619656e-16. Current value: 8.48528137423857 k: 29/30 k_accepted: 1/3 k_noimprovements: 0\n",
      "2025-04-24 15:43:59,838 [INFO] Temperature 5.276456875619656e-16. Current value: 8.48528137423857 k: 30/30 k_accepted: 1/3 k_noimprovements: 0\n",
      "2025-04-24 15:43:59,838 [INFO] Temperature 4.74881118805769e-16. Current value: 8.48528137423857 k: 1/30 k_accepted: 0/3 k_noimprovements: 0\n",
      "2025-04-24 15:43:59,838 [INFO] Temperature 4.74881118805769e-16. Current value: 8.48528137423857 k: 2/30 k_accepted: 0/3 k_noimprovements: 0\n",
      "2025-04-24 15:43:59,838 [INFO] Temperature 4.74881118805769e-16. Current value: 8.48528137423857 k: 3/30 k_accepted: 0/3 k_noimprovements: 0\n",
      "2025-04-24 15:43:59,838 [INFO] Temperature 4.74881118805769e-16. Current value: 8.48528137423857 k: 4/30 k_accepted: 0/3 k_noimprovements: 0\n",
      "2025-04-24 15:43:59,838 [INFO] Temperature 4.74881118805769e-16. Current value: 8.48528137423857 k: 5/30 k_accepted: 0/3 k_noimprovements: 0\n",
      "2025-04-24 15:43:59,838 [INFO] Temperature 4.74881118805769e-16. Current value: 8.48528137423857 k: 6/30 k_accepted: 0/3 k_noimprovements: 0\n",
      "2025-04-24 15:43:59,838 [INFO] Temperature 4.74881118805769e-16. Current value: 8.48528137423857 k: 7/30 k_accepted: 0/3 k_noimprovements: 0\n",
      "2025-04-24 15:43:59,838 [INFO] Temperature 4.74881118805769e-16. Current value: 8.48528137423857 k: 8/30 k_accepted: 0/3 k_noimprovements: 0\n",
      "2025-04-24 15:43:59,838 [INFO] Temperature 4.74881118805769e-16. Current value: 8.48528137423857 k: 9/30 k_accepted: 0/3 k_noimprovements: 0\n",
      "2025-04-24 15:43:59,838 [INFO] Temperature 4.74881118805769e-16. Current value: 8.48528137423857 k: 10/30 k_accepted: 0/3 k_noimprovements: 0\n",
      "2025-04-24 15:43:59,838 [INFO] Temperature 4.74881118805769e-16. Current value: 8.48528137423857 k: 11/30 k_accepted: 0/3 k_noimprovements: 0\n",
      "2025-04-24 15:43:59,838 [INFO] Temperature 4.74881118805769e-16. Current value: 8.48528137423857 k: 12/30 k_accepted: 0/3 k_noimprovements: 0\n",
      "2025-04-24 15:43:59,838 [INFO] Temperature 4.74881118805769e-16. Current value: 8.48528137423857 k: 13/30 k_accepted: 0/3 k_noimprovements: 0\n",
      "2025-04-24 15:43:59,838 [INFO] Temperature 4.74881118805769e-16. Current value: 8.48528137423857 k: 14/30 k_accepted: 0/3 k_noimprovements: 0\n",
      "2025-04-24 15:43:59,838 [INFO] Temperature 4.74881118805769e-16. Current value: 8.48528137423857 k: 15/30 k_accepted: 0/3 k_noimprovements: 0\n",
      "2025-04-24 15:43:59,838 [INFO] Temperature 4.74881118805769e-16. Current value: 8.48528137423857 k: 16/30 k_accepted: 0/3 k_noimprovements: 0\n",
      "2025-04-24 15:43:59,838 [INFO] Temperature 4.74881118805769e-16. Current value: 8.48528137423857 k: 17/30 k_accepted: 0/3 k_noimprovements: 0\n",
      "2025-04-24 15:43:59,851 [INFO] Temperature 4.74881118805769e-16. Current value: 8.48528137423857 k: 18/30 k_accepted: 0/3 k_noimprovements: 0\n",
      "2025-04-24 15:43:59,852 [INFO] Temperature 4.74881118805769e-16. Current value: 8.48528137423857 k: 19/30 k_accepted: 0/3 k_noimprovements: 0\n",
      "2025-04-24 15:43:59,853 [INFO] Temperature 4.74881118805769e-16. Current value: 8.48528137423857 k: 20/30 k_accepted: 0/3 k_noimprovements: 0\n",
      "2025-04-24 15:43:59,853 [INFO] Temperature 4.74881118805769e-16. Current value: 8.48528137423857 k: 21/30 k_accepted: 0/3 k_noimprovements: 0\n",
      "2025-04-24 15:43:59,854 [INFO] Temperature 4.74881118805769e-16. Current value: 8.48528137423857 k: 22/30 k_accepted: 0/3 k_noimprovements: 0\n",
      "2025-04-24 15:43:59,855 [INFO] Temperature 4.74881118805769e-16. Current value: 8.48528137423857 k: 23/30 k_accepted: 0/3 k_noimprovements: 0\n",
      "2025-04-24 15:43:59,855 [INFO] Temperature 4.74881118805769e-16. Current value: 8.48528137423857 k: 24/30 k_accepted: 0/3 k_noimprovements: 0\n",
      "2025-04-24 15:43:59,855 [INFO] Temperature 4.74881118805769e-16. Current value: 8.48528137423857 k: 25/30 k_accepted: 0/3 k_noimprovements: 0\n",
      "2025-04-24 15:43:59,855 [INFO] Temperature 4.74881118805769e-16. Current value: 8.48528137423857 k: 26/30 k_accepted: 0/3 k_noimprovements: 0\n",
      "2025-04-24 15:43:59,855 [INFO] Temperature 4.74881118805769e-16. Current value: 8.48528137423857 k: 27/30 k_accepted: 0/3 k_noimprovements: 0\n",
      "2025-04-24 15:43:59,855 [INFO] Temperature 4.74881118805769e-16. Current value: 8.48528137423857 k: 28/30 k_accepted: 0/3 k_noimprovements: 0\n",
      "2025-04-24 15:43:59,855 [INFO] Temperature 4.74881118805769e-16. Current value: 8.48528137423857 k: 29/30 k_accepted: 0/3 k_noimprovements: 0\n",
      "2025-04-24 15:43:59,855 [INFO] Temperature 4.74881118805769e-16. Current value: 8.48528137423857 k: 30/30 k_accepted: 0/3 k_noimprovements: 0\n",
      "2025-04-24 15:43:59,855 [INFO] Temperature 4.2739300692519214e-16. Current value: 8.48528137423857 k: 1/30 k_accepted: 0/3 k_noimprovements: 1\n",
      "2025-04-24 15:43:59,855 [INFO] Temperature 4.2739300692519214e-16. Current value: 8.48528137423857 k: 2/30 k_accepted: 0/3 k_noimprovements: 1\n",
      "2025-04-24 15:43:59,855 [INFO] Temperature 4.2739300692519214e-16. Current value: 8.48528137423857 k: 3/30 k_accepted: 0/3 k_noimprovements: 1\n",
      "2025-04-24 15:43:59,855 [INFO] Temperature 4.2739300692519214e-16. Current value: 8.48528137423857 k: 4/30 k_accepted: 0/3 k_noimprovements: 1\n",
      "2025-04-24 15:43:59,855 [INFO] Temperature 4.2739300692519214e-16. Current value: 8.48528137423857 k: 5/30 k_accepted: 0/3 k_noimprovements: 1\n",
      "2025-04-24 15:43:59,855 [INFO] Temperature 4.2739300692519214e-16. Current value: 8.48528137423857 k: 6/30 k_accepted: 0/3 k_noimprovements: 1\n",
      "2025-04-24 15:43:59,855 [INFO] Temperature 4.2739300692519214e-16. Current value: 8.48528137423857 k: 7/30 k_accepted: 0/3 k_noimprovements: 1\n",
      "2025-04-24 15:43:59,855 [INFO] Temperature 4.2739300692519214e-16. Current value: 8.48528137423857 k: 8/30 k_accepted: 0/3 k_noimprovements: 1\n",
      "2025-04-24 15:43:59,855 [INFO] Temperature 4.2739300692519214e-16. Current value: 8.48528137423857 k: 9/30 k_accepted: 0/3 k_noimprovements: 1\n",
      "2025-04-24 15:43:59,855 [INFO] Temperature 4.2739300692519214e-16. Current value: 8.48528137423857 k: 10/30 k_accepted: 0/3 k_noimprovements: 1\n",
      "2025-04-24 15:43:59,855 [INFO] Temperature 4.2739300692519214e-16. Current value: 8.48528137423857 k: 11/30 k_accepted: 0/3 k_noimprovements: 1\n",
      "2025-04-24 15:43:59,867 [INFO] Temperature 4.2739300692519214e-16. Current value: 8.48528137423857 k: 12/30 k_accepted: 0/3 k_noimprovements: 1\n",
      "2025-04-24 15:43:59,868 [INFO] Temperature 4.2739300692519214e-16. Current value: 8.48528137423857 k: 13/30 k_accepted: 0/3 k_noimprovements: 1\n",
      "2025-04-24 15:43:59,869 [INFO] Temperature 4.2739300692519214e-16. Current value: 8.48528137423857 k: 14/30 k_accepted: 0/3 k_noimprovements: 1\n",
      "2025-04-24 15:43:59,869 [INFO] Temperature 4.2739300692519214e-16. Current value: 8.48528137423857 k: 15/30 k_accepted: 0/3 k_noimprovements: 1\n",
      "2025-04-24 15:43:59,870 [INFO] Temperature 4.2739300692519214e-16. Current value: 8.48528137423857 k: 16/30 k_accepted: 0/3 k_noimprovements: 1\n",
      "2025-04-24 15:43:59,871 [INFO] Temperature 4.2739300692519214e-16. Current value: 8.48528137423857 k: 17/30 k_accepted: 0/3 k_noimprovements: 1\n",
      "2025-04-24 15:43:59,872 [INFO] Temperature 4.2739300692519214e-16. Current value: 8.48528137423857 k: 18/30 k_accepted: 0/3 k_noimprovements: 1\n",
      "2025-04-24 15:43:59,873 [INFO] Temperature 4.2739300692519214e-16. Current value: 8.48528137423857 k: 19/30 k_accepted: 0/3 k_noimprovements: 1\n",
      "2025-04-24 15:43:59,873 [INFO] Temperature 4.2739300692519214e-16. Current value: 8.48528137423857 k: 20/30 k_accepted: 0/3 k_noimprovements: 1\n",
      "2025-04-24 15:43:59,873 [INFO] Temperature 4.2739300692519214e-16. Current value: 8.48528137423857 k: 21/30 k_accepted: 0/3 k_noimprovements: 1\n",
      "2025-04-24 15:43:59,873 [INFO] Temperature 4.2739300692519214e-16. Current value: 8.48528137423857 k: 22/30 k_accepted: 0/3 k_noimprovements: 1\n",
      "2025-04-24 15:43:59,873 [INFO] Temperature 4.2739300692519214e-16. Current value: 8.48528137423857 k: 23/30 k_accepted: 0/3 k_noimprovements: 1\n",
      "2025-04-24 15:43:59,873 [INFO] Temperature 4.2739300692519214e-16. Current value: 8.48528137423857 k: 24/30 k_accepted: 0/3 k_noimprovements: 1\n",
      "2025-04-24 15:43:59,873 [INFO] Temperature 4.2739300692519214e-16. Current value: 8.48528137423857 k: 25/30 k_accepted: 0/3 k_noimprovements: 1\n",
      "2025-04-24 15:43:59,873 [INFO] Temperature 4.2739300692519214e-16. Current value: 8.48528137423857 k: 26/30 k_accepted: 0/3 k_noimprovements: 1\n",
      "2025-04-24 15:43:59,873 [INFO] Temperature 4.2739300692519214e-16. Current value: 8.48528137423857 k: 27/30 k_accepted: 0/3 k_noimprovements: 1\n",
      "2025-04-24 15:43:59,873 [INFO] Temperature 4.2739300692519214e-16. Current value: 8.48528137423857 k: 28/30 k_accepted: 0/3 k_noimprovements: 1\n",
      "2025-04-24 15:43:59,873 [INFO] Temperature 4.2739300692519214e-16. Current value: 8.48528137423857 k: 29/30 k_accepted: 0/3 k_noimprovements: 1\n",
      "2025-04-24 15:43:59,873 [INFO] Temperature 4.2739300692519214e-16. Current value: 8.48528137423857 k: 30/30 k_accepted: 0/3 k_noimprovements: 1\n",
      "2025-04-24 15:43:59,873 [INFO] Temperature 3.8465370623267294e-16. Current value: 8.48528137423857 k: 1/30 k_accepted: 0/3 k_noimprovements: 2\n",
      "2025-04-24 15:43:59,873 [INFO] Temperature 3.8465370623267294e-16. Current value: 8.48528137423857 k: 2/30 k_accepted: 0/3 k_noimprovements: 2\n",
      "2025-04-24 15:43:59,873 [INFO] Temperature 3.8465370623267294e-16. Current value: 8.48528137423857 k: 3/30 k_accepted: 0/3 k_noimprovements: 2\n",
      "2025-04-24 15:43:59,873 [INFO] Temperature 3.8465370623267294e-16. Current value: 8.48528137423857 k: 4/30 k_accepted: 0/3 k_noimprovements: 2\n",
      "2025-04-24 15:43:59,884 [INFO] Temperature 3.8465370623267294e-16. Current value: 8.48528137423857 k: 5/30 k_accepted: 0/3 k_noimprovements: 2\n",
      "2025-04-24 15:43:59,884 [INFO] Temperature 3.8465370623267294e-16. Current value: 8.48528137423857 k: 6/30 k_accepted: 0/3 k_noimprovements: 2\n",
      "2025-04-24 15:43:59,885 [INFO] Temperature 3.8465370623267294e-16. Current value: 8.48528137423857 k: 7/30 k_accepted: 0/3 k_noimprovements: 2\n",
      "2025-04-24 15:43:59,886 [INFO] Temperature 3.8465370623267294e-16. Current value: 8.48528137423857 k: 8/30 k_accepted: 0/3 k_noimprovements: 2\n",
      "2025-04-24 15:43:59,886 [INFO] Temperature 3.8465370623267294e-16. Current value: 8.48528137423857 k: 9/30 k_accepted: 0/3 k_noimprovements: 2\n",
      "2025-04-24 15:43:59,887 [INFO] Temperature 3.8465370623267294e-16. Current value: 8.48528137423857 k: 10/30 k_accepted: 0/3 k_noimprovements: 2\n",
      "2025-04-24 15:43:59,888 [INFO] Temperature 3.8465370623267294e-16. Current value: 8.48528137423857 k: 11/30 k_accepted: 0/3 k_noimprovements: 2\n",
      "2025-04-24 15:43:59,889 [INFO] Temperature 3.8465370623267294e-16. Current value: 8.48528137423857 k: 12/30 k_accepted: 0/3 k_noimprovements: 2\n",
      "2025-04-24 15:43:59,889 [INFO] Temperature 3.8465370623267294e-16. Current value: 8.48528137423857 k: 13/30 k_accepted: 0/3 k_noimprovements: 2\n",
      "2025-04-24 15:43:59,890 [INFO] Temperature 3.8465370623267294e-16. Current value: 8.48528137423857 k: 14/30 k_accepted: 0/3 k_noimprovements: 2\n",
      "2025-04-24 15:43:59,891 [INFO] Temperature 3.8465370623267294e-16. Current value: 8.48528137423857 k: 15/30 k_accepted: 0/3 k_noimprovements: 2\n",
      "2025-04-24 15:43:59,892 [INFO] Temperature 3.8465370623267294e-16. Current value: 8.48528137423857 k: 16/30 k_accepted: 0/3 k_noimprovements: 2\n",
      "2025-04-24 15:43:59,893 [INFO] Temperature 3.8465370623267294e-16. Current value: 8.48528137423857 k: 17/30 k_accepted: 0/3 k_noimprovements: 2\n",
      "2025-04-24 15:43:59,893 [INFO] Temperature 3.8465370623267294e-16. Current value: 8.48528137423857 k: 18/30 k_accepted: 0/3 k_noimprovements: 2\n",
      "2025-04-24 15:43:59,893 [INFO] Temperature 3.8465370623267294e-16. Current value: 8.48528137423857 k: 19/30 k_accepted: 0/3 k_noimprovements: 2\n",
      "2025-04-24 15:43:59,893 [INFO] Temperature 3.8465370623267294e-16. Current value: 8.48528137423857 k: 20/30 k_accepted: 0/3 k_noimprovements: 2\n",
      "2025-04-24 15:43:59,893 [INFO] Temperature 3.8465370623267294e-16. Current value: 8.48528137423857 k: 21/30 k_accepted: 0/3 k_noimprovements: 2\n",
      "2025-04-24 15:43:59,893 [INFO] Temperature 3.8465370623267294e-16. Current value: 8.48528137423857 k: 22/30 k_accepted: 0/3 k_noimprovements: 2\n",
      "2025-04-24 15:43:59,893 [INFO] Temperature 3.8465370623267294e-16. Current value: 8.48528137423857 k: 23/30 k_accepted: 0/3 k_noimprovements: 2\n",
      "2025-04-24 15:43:59,893 [INFO] Temperature 3.8465370623267294e-16. Current value: 8.48528137423857 k: 24/30 k_accepted: 0/3 k_noimprovements: 2\n",
      "2025-04-24 15:43:59,893 [INFO] Temperature 3.8465370623267294e-16. Current value: 8.48528137423857 k: 25/30 k_accepted: 0/3 k_noimprovements: 2\n",
      "2025-04-24 15:43:59,893 [INFO] Temperature 3.8465370623267294e-16. Current value: 8.48528137423857 k: 26/30 k_accepted: 0/3 k_noimprovements: 2\n",
      "2025-04-24 15:43:59,901 [INFO] Temperature 3.8465370623267294e-16. Current value: 8.48528137423857 k: 27/30 k_accepted: 0/3 k_noimprovements: 2\n",
      "2025-04-24 15:43:59,902 [INFO] Temperature 3.8465370623267294e-16. Current value: 8.48528137423857 k: 28/30 k_accepted: 0/3 k_noimprovements: 2\n",
      "2025-04-24 15:43:59,903 [INFO] Temperature 3.8465370623267294e-16. Current value: 8.48528137423857 k: 29/30 k_accepted: 0/3 k_noimprovements: 2\n",
      "2025-04-24 15:43:59,904 [INFO] Temperature 3.8465370623267294e-16. Current value: 8.48528137423857 k: 30/30 k_accepted: 0/3 k_noimprovements: 2\n"
     ]
    },
    {
     "name": "stdout",
     "output_type": "stream",
     "text": [
      "✅ randomise_fov passed. sample points: [StageCoord(xy=(0, 0), ZDrive=None, PFSOffset=None), StageCoord(xy=(3, 3), ZDrive=None, PFSOffset=None), StageCoord(xy=(2, 2), ZDrive=None, PFSOffset=None)]\n"
     ]
    }
   ],
   "source": [
    "# randomise_fov\n",
    "from dish_manager.dish_utils.geometry_utils import randomise_fov\n",
    "from utils.utility_classes import StageCoord\n",
    "\n",
    "grid = {i: StageCoord(xy=(i,i), ZDrive=None, PFSOffset=None) for i in range(5)}\n",
    "rand = randomise_fov(grid, 3)\n",
    "assert isinstance(rand, dict) and len(rand) == 3\n",
    "print(\"✅ randomise_fov passed. sample points:\", list(rand.values()))"
   ]
  }
 ],
 "metadata": {
  "kernelspec": {
   "display_name": ".venv",
   "language": "python",
   "name": "python3"
  },
  "language_info": {
   "codemirror_mode": {
    "name": "ipython",
    "version": 3
   },
   "file_extension": ".py",
   "mimetype": "text/x-python",
   "name": "python",
   "nbconvert_exporter": "python",
   "pygments_lexer": "ipython3",
   "version": "3.12.10"
  }
 },
 "nbformat": 4,
 "nbformat_minor": 5
}

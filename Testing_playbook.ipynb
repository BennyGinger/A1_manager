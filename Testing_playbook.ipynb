{
 "cells": [
  {
   "cell_type": "markdown",
   "id": "f50af5e6",
   "metadata": {},
   "source": [
    "# A1 Manager Playbook\n",
    "\n",
    "This notebook demonstrates how to load the **A1_manager** project as a module and execute its test suite programmatically.\n",
    "            "
   ]
  },
  {
   "cell_type": "code",
   "execution_count": null,
   "id": "7fe7c8c5",
   "metadata": {},
   "outputs": [
    {
     "ename": "",
     "evalue": "",
     "output_type": "error",
     "traceback": [
      "\u001b[1;31mRunning cells with '.venv (Python 3.12.10)' requires the ipykernel package.\n",
      "\u001b[1;31mInstall 'ipykernel' into the Python environment. \n",
      "\u001b[1;31mCommand: 'c:/repos/A1_manager/.venv/Scripts/python.exe -m pip install ipykernel -U --force-reinstall'"
     ]
    }
   ],
   "source": [
    "# Ensure the project module path is set\n",
    "import sys\n",
    "from pathlib import Path\n",
    "\n",
    "# Insert the 'a1_manager' directory into sys.path\n",
    "project_root = Path.cwd()\n",
    "sys.path.insert(0, str(project_root / 'a1_manager'))\n",
    "print('Module path set to:', project_root / 'a1_manager')"
   ]
  },
  {
   "cell_type": "code",
   "execution_count": null,
   "id": "4185b9f5",
   "metadata": {},
   "outputs": [],
   "source": [
    "# Import key classes to verify module loading\n",
    "from microscope_hardware.nikon import NikonTi2\n",
    "from a1_manager.main import A1Manager\n",
    "\n",
    "print('Imported classes successfully:')\n",
    "print('NikonTi2:', NikonTi2)\n",
    "print('A1Manager:', A1Manager)"
   ]
  },
  {
   "cell_type": "code",
   "execution_count": null,
   "id": "35d26dce",
   "metadata": {},
   "outputs": [],
   "source": [
    "# Run the full pytest suite programmatically\n",
    "import pytest\n",
    "\n",
    "print('Running pytest...')\n",
    "exit_code = pytest.main(['-q', '--disable-warnings', '--maxfail=1'])\n",
    "print(f'Pytest completed with exit code: {exit_code}')"
   ]
  }
 ],
 "metadata": {
  "kernelspec": {
   "display_name": ".venv",
   "language": "python",
   "name": "python3"
  },
  "language_info": {
   "name": "python",
   "version": "3.12.10"
  }
 },
 "nbformat": 4,
 "nbformat_minor": 5
}
